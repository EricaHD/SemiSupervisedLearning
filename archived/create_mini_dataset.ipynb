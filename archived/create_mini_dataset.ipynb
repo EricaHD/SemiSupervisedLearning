{
 "cells": [
  {
   "cell_type": "code",
   "execution_count": 1,
   "metadata": {},
   "outputs": [],
   "source": [
    "import os\n",
    "import shutil\n",
    "import random\n",
    "\n",
    "import numpy as np"
   ]
  },
  {
   "cell_type": "code",
   "execution_count": 3,
   "metadata": {},
   "outputs": [],
   "source": [
    "os.makedirs(\"/scratch/ijh216/ssl_mini\")\n",
    "os.makedirs(\"/scratch/ijh216/ssl_mini/supervised\")\n",
    "os.makedirs(\"/scratch/ijh216/ssl_mini/supervised/train\")\n",
    "os.makedirs(\"/scratch/ijh216/ssl_mini/supervised/val\")\n",
    "os.makedirs(\"/scratch/ijh216/ssl_mini/unsupervised\")"
   ]
  },
  {
   "cell_type": "code",
   "execution_count": null,
   "metadata": {},
   "outputs": [],
   "source": []
  },
  {
   "cell_type": "code",
   "execution_count": 4,
   "metadata": {},
   "outputs": [],
   "source": [
    "root_sup_train_dir = \"/scratch/ehd255/ssl_data_96/supervised/train\"\n",
    "root_sup_val_dir = \"/scratch/ehd255/ssl_data_96/supervised/val\"\n",
    "root_unsup_dir = \"/scratch/ehd255/ssl_data_96/unsupervised\"\n",
    "output_dir = \"/scratch/ijh216/ssl_mini\""
   ]
  },
  {
   "cell_type": "code",
   "execution_count": 7,
   "metadata": {},
   "outputs": [],
   "source": [
    "def randomSelect(path, n, out_dir):\n",
    "\n",
    "    for i in os.listdir(path):\n",
    "        \n",
    "        cur_dir = path + \"/\" + i\n",
    "        \n",
    "        all_files = os.listdir(cur_dir)\n",
    "        selections = np.random.choice(all_files, n, replace=False)\n",
    "\n",
    "        new_dir = out_dir + \"/\" + i + \"/.\"\n",
    "        \n",
    "        if not os.path.exists(new_dir):\n",
    "            os.makedirs(new_dir)\n",
    "\n",
    "        for file in selections:\n",
    "            file_path = cur_dir + \"/\" + file\n",
    "            shutil.copy(file_path, new_dir)\n",
    "                            \n",
    "    return"
   ]
  },
  {
   "cell_type": "code",
   "execution_count": 8,
   "metadata": {
    "scrolled": true
   },
   "outputs": [],
   "source": [
    "randomSelect(root_sup_train_dir, 64, output_dir+\"/supervised/train\")"
   ]
  },
  {
   "cell_type": "code",
   "execution_count": 9,
   "metadata": {},
   "outputs": [],
   "source": [
    "randomSelect(root_sup_val_dir, 32, output_dir+\"/supervised/val\")"
   ]
  },
  {
   "cell_type": "code",
   "execution_count": 10,
   "metadata": {},
   "outputs": [],
   "source": [
    "randomSelect(root_unsup_dir, 100, output_dir+\"/unsupervised\")"
   ]
  },
  {
   "cell_type": "code",
   "execution_count": 11,
   "metadata": {},
   "outputs": [
    {
     "data": {
      "text/plain": [
       "11"
      ]
     },
     "execution_count": 11,
     "metadata": {},
     "output_type": "execute_result"
    }
   ],
   "source": [
    "1_1"
   ]
  },
  {
   "cell_type": "code",
   "execution_count": 21,
   "metadata": {},
   "outputs": [
    {
     "data": {
      "text/plain": [
       "1000"
      ]
     },
     "execution_count": 21,
     "metadata": {},
     "output_type": "execute_result"
    }
   ],
   "source": [
    "len(os.listdir(output_dir+\"/supervised/train\"))"
   ]
  },
  {
   "cell_type": "code",
   "execution_count": 22,
   "metadata": {},
   "outputs": [
    {
     "data": {
      "text/plain": [
       "1000"
      ]
     },
     "execution_count": 22,
     "metadata": {},
     "output_type": "execute_result"
    }
   ],
   "source": [
    "len(os.listdir(output_dir+\"/supervised/val\"))"
   ]
  },
  {
   "cell_type": "code",
   "execution_count": 23,
   "metadata": {},
   "outputs": [
    {
     "data": {
      "text/plain": [
       "512"
      ]
     },
     "execution_count": 23,
     "metadata": {},
     "output_type": "execute_result"
    }
   ],
   "source": [
    "len(os.listdir(output_dir+\"/unsupervised\"))"
   ]
  },
  {
   "cell_type": "code",
   "execution_count": null,
   "metadata": {},
   "outputs": [],
   "source": []
  },
  {
   "cell_type": "code",
   "execution_count": null,
   "metadata": {},
   "outputs": [],
   "source": []
  },
  {
   "cell_type": "code",
   "execution_count": null,
   "metadata": {},
   "outputs": [],
   "source": []
  }
 ],
 "metadata": {
  "kernelspec": {
   "display_name": "Python 3",
   "language": "python",
   "name": "python3"
  },
  "language_info": {
   "codemirror_mode": {
    "name": "ipython",
    "version": 3
   },
   "file_extension": ".py",
   "mimetype": "text/x-python",
   "name": "python",
   "nbconvert_exporter": "python",
   "pygments_lexer": "ipython3",
   "version": "3.6.3"
  }
 },
 "nbformat": 4,
 "nbformat_minor": 2
}
