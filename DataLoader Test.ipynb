{
 "cells": [
  {
   "cell_type": "code",
   "execution_count": 1,
   "metadata": {},
   "outputs": [],
   "source": [
    "import numpy as np\n",
    "\n",
    "import torch\n",
    "import torchvision\n",
    "import  torchvision.transforms as transforms\n",
    "from mean_teacher import data\n",
    "\n",
    "from torch.utils.data.sampler import BatchSampler, SubsetRandomSampler"
   ]
  },
  {
   "cell_type": "code",
   "execution_count": 44,
   "metadata": {},
   "outputs": [],
   "source": [
    "a = torch.Tensor([1])"
   ]
  },
  {
   "cell_type": "code",
   "execution_count": 51,
   "metadata": {},
   "outputs": [
    {
     "data": {
      "text/plain": [
       "{0: 1, 1: 0, 2: 1, 3: 0, 4: 1, 5: 0, 6: 1, 7: 0, 8: 1, 9: 0}"
      ]
     },
     "execution_count": 51,
     "metadata": {},
     "output_type": "execute_result"
    }
   ],
   "source": [
    "{i:(1 if i%2 == 0 else 0) for i in range(10)}"
   ]
  },
  {
   "cell_type": "code",
   "execution_count": 2,
   "metadata": {},
   "outputs": [],
   "source": [
    "device = torch.device(\"cuda:0\" if torch.cuda.is_available() else \"cpu\")"
   ]
  },
  {
   "cell_type": "code",
   "execution_count": 3,
   "metadata": {},
   "outputs": [],
   "source": [
    "train_dir = '/scratch/ehd255/ssl_data_96/supervised/train/'\n",
    "val_dir = '/scratch/ehd255/ssl_data_96/supervised/val/'\n",
    "unsup_dir = '/scratch/ehd255/ssl_data_96/unsupervised/'"
   ]
  },
  {
   "cell_type": "code",
   "execution_count": 33,
   "metadata": {},
   "outputs": [
    {
     "data": {
      "text/plain": [
       "torch.Size([3, 96, 96])"
      ]
     },
     "execution_count": 33,
     "metadata": {},
     "output_type": "execute_result"
    }
   ],
   "source": [
    "dataset[0][0][0].size()"
   ]
  },
  {
   "cell_type": "code",
   "execution_count": 34,
   "metadata": {},
   "outputs": [
    {
     "data": {
      "text/plain": [
       "torch.Size([3, 96, 96])"
      ]
     },
     "execution_count": 34,
     "metadata": {},
     "output_type": "execute_result"
    }
   ],
   "source": [
    "dataset[0][0][1].size()"
   ]
  },
  {
   "cell_type": "code",
   "execution_count": 43,
   "metadata": {},
   "outputs": [
    {
     "data": {
      "text/plain": [
       "384"
      ]
     },
     "execution_count": 43,
     "metadata": {},
     "output_type": "execute_result"
    }
   ],
   "source": [
    "96 * 4"
   ]
  },
  {
   "cell_type": "code",
   "execution_count": 21,
   "metadata": {},
   "outputs": [],
   "source": [
    "dataset = torchvision.datasets.ImageFolder(train_dir, ssl()['train_transformation'])\n",
    "labeled_idx = list(range(len(dataset)))\n",
    "\n",
    "_dataset = torchvision.datasets.ImageFolder(unsup_dir, ssl()['train_transformation'])\n",
    "\n",
    "for i in _dataset.classes:\n",
    "    _dataset.class_to_idx[i] = -1\n",
    "    \n",
    "concat_dataset = torch.utils.data.ConcatDataset([dataset, _dataset])\n",
    "unlabeled_idxs = list(range(len(dataset), len(dataset) + len(_dataset)))\n",
    "\n",
    "dataset = concat_dataset"
   ]
  },
  {
   "cell_type": "code",
   "execution_count": 89,
   "metadata": {},
   "outputs": [],
   "source": [
    "batch_sampler = data.TwoStreamBatchSampler(unlabeled_idxs, \n",
    "                                           labeled_idxs, \n",
    "                                           args.batch_size, \n",
    "                                           args.labeled_batch_size)\n",
    "\n",
    "train_loader = torch.utils.data.DataLoader(dataset, \n",
    "                                           batch_sampler=batch_sampler, \n",
    "                                           num_workers=args.workers, \n",
    "                                           pin_memory=True)\n",
    "\n",
    "train_loader_len = len(train_loader)\n",
    "\n",
    "eval_loader = torch.utils.data.DataLoader(torchvision.datasets.ImageFolder(evaldir, eval_transformation),\n",
    "                                        batch_size=eval_batch_size,\n",
    "                                        shuffle=False,\n",
    "                                        num_workers=2 * args.workers,  \n",
    "                                        pin_memory=True,\n",
    "                                        drop_last=False)"
   ]
  },
  {
   "cell_type": "code",
   "execution_count": 26,
   "metadata": {},
   "outputs": [],
   "source": [
    "import os"
   ]
  },
  {
   "cell_type": "code",
   "execution_count": null,
   "metadata": {},
   "outputs": [],
   "source": [
    "runner_file = \"\""
   ]
  },
  {
   "cell_type": "code",
   "execution_count": null,
   "metadata": {},
   "outputs": [],
   "source": [
    "os.path.basename(runner_file).split(\".\")[0]"
   ]
  },
  {
   "cell_type": "code",
   "execution_count": null,
   "metadata": {},
   "outputs": [],
   "source": [
    "def create_data_loaders_ssl(train_transformation, eval_transformation, datadir, args):\n",
    "    \n",
    "    traindir = os.path.join(datadir, args.train_subdir)\n",
    "    evaldir = os.path.join(datadir, args.eval_subdir)\n",
    "    \n",
    "    dataset = torchvision.datasets.ImageFolder(train_dir, train_transformation)\n",
    "    labeled_idx = list(range(len(dataset)))\n",
    "\n",
    "    _dataset = torchvision.datasets.ImageFolder(unsup_dir, train_transformation)\n",
    "\n",
    "    for i in _dataset.classes:\n",
    "        _dataset.class_to_idx[i] = -1\n",
    "\n",
    "    concat_dataset = torch.utils.data.ConcatDataset([dataset, _dataset])\n",
    "    unlabeled_idxs = list(range(len(dataset), len(dataset) + len(_dataset)))\n",
    "\n",
    "    dataset = concat_dataset\n",
    "    \n",
    "    batch_sampler = data.TwoStreamBatchSampler(unlabeled_idxs, \n",
    "                                           labeled_idxs, \n",
    "                                           args.batch_size, \n",
    "                                           args.labeled_batch_size)\n",
    "\n",
    "    train_loader = torch.utils.data.DataLoader(dataset, \n",
    "                                               batch_sampler=batch_sampler, \n",
    "                                               num_workers=args.workers, \n",
    "                                               pin_memory=True)\n",
    "\n",
    "    train_loader_len = len(train_loader)\n",
    "\n",
    "    eval_loader = torch.utils.data.DataLoader(torchvision.datasets.ImageFolder(evaldir, eval_transformation),\n",
    "                                            batch_size=eval_batch_size,\n",
    "                                            shuffle=False,\n",
    "                                            num_workers=2 * args.workers,  \n",
    "                                            pin_memory=True,\n",
    "                                            drop_last=False)\n",
    "    \n",
    "    return train_loader, eval_loader, train_loader_len"
   ]
  },
  {
   "cell_type": "code",
   "execution_count": null,
   "metadata": {},
   "outputs": [],
   "source": []
  },
  {
   "cell_type": "code",
   "execution_count": null,
   "metadata": {},
   "outputs": [],
   "source": []
  }
 ],
 "metadata": {
  "kernelspec": {
   "display_name": "Python 3",
   "language": "python",
   "name": "python3"
  },
  "language_info": {
   "codemirror_mode": {
    "name": "ipython",
    "version": 3
   },
   "file_extension": ".py",
   "mimetype": "text/x-python",
   "name": "python",
   "nbconvert_exporter": "python",
   "pygments_lexer": "ipython3",
   "version": "3.6.3"
  }
 },
 "nbformat": 4,
 "nbformat_minor": 2
}
