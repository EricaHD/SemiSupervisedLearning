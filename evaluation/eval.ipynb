{
 "cells": [
  {
   "cell_type": "code",
   "execution_count": null,
   "metadata": {},
   "outputs": [],
   "source": [
    "from model import Model\n",
    "import argparse\n",
    "import json\n",
    "import torch\n",
    "import time\n",
    "\n",
    "from torch.utils.data import DataLoader\n",
    "from torchvision import datasets, transforms, models"
   ]
  },
  {
   "cell_type": "code",
   "execution_count": null,
   "metadata": {},
   "outputs": [],
   "source": [
    "def load_data(data_dir, batch_size, split):\n",
    "    \"\"\" Method returning a data loader for labeled data \"\"\"\n",
    "    transform = transforms.Compose([\n",
    "        transforms.Resize(32),\n",
    "        transforms.ToTensor(),\n",
    "        transforms.Normalize((0.5011, 0.4727, 0.4229), (0.2835, 0.2767, 0.2950))  # RGB means, RGB stds\n",
    "    ])\n",
    "    data = datasets.ImageFolder(f'{data_dir}/supervised/{split}', transform=transform)\n",
    "    data_loader = DataLoader(\n",
    "        data,\n",
    "        batch_size=batch_size,\n",
    "        shuffle=True,\n",
    "        num_workers=8\n",
    "    )\n",
    "    return data_loader\n",
    "\n",
    "def evaluate(model, data_loader, device, split, top_k=5):\n",
    "    \"\"\" Method returning accuracy@1 and accuracy@top_k \"\"\"\n",
    "    print(f'\\nEvaluating {split} set...')\n",
    "    model.eval()\n",
    "    i = 0\n",
    "    n_samples = 0.\n",
    "    n_correct_top_1 = 0\n",
    "    n_correct_top_k = 0\n",
    "\n",
    "    for i, (img, target) in enumerate(data_loader):\n",
    "        img, target = img.to(device), target.to(device)\n",
    "        batch_size = img.size(0)\n",
    "        n_samples += batch_size\n",
    "\n",
    "        # Forward\n",
    "        output = model(img)[0]\n",
    "\n",
    "        # Top 1 accuracy\n",
    "        pred_top_1 = torch.topk(output, k=1, dim=1)[1]\n",
    "        n_correct_top_1 += pred_top_1.eq(target.view_as(pred_top_1)).int().sum().item()\n",
    "\n",
    "        # Top k accuracy\n",
    "        pred_top_k = torch.topk(output, k=top_k, dim=1)[1]\n",
    "        target_top_k = target.view(-1, 1).expand(batch_size, top_k)\n",
    "        n_correct_top_k += pred_top_k.eq(target_top_k).int().sum().item()\n",
    "        \n",
    "        # Accuracy\n",
    "        top_1_acc = n_correct_top_1/n_samples\n",
    "        top_k_acc = n_correct_top_k/n_samples\n",
    "        \n",
    "        if i % 100 == 0:\n",
    "            print(f\"Iteration {i}: {n_samples}\")\n",
    "            print(f\"Top 1 {top_1_acc}\")\n",
    "            print(f\"Top k {top_k_acc}\")\n",
    "            print(\"*****************************************\")\n",
    "\n",
    "    # Accuracy\n",
    "    top_1_acc = n_correct_top_1/n_samples\n",
    "    top_k_acc = n_correct_top_k/n_samples\n",
    "\n",
    "    # Log\n",
    "    print(f'{split} top 1 accuracy: {top_1_acc:.4f}')\n",
    "    print(f'{split} top {top_k} accuracy: {top_k_acc:.4f}')"
   ]
  },
  {
   "cell_type": "code",
   "execution_count": null,
   "metadata": {},
   "outputs": [],
   "source": [
    "# Set random seed and device\n",
    "torch.manual_seed(1)\n",
    "torch.cuda.manual_seed_all(1)\n",
    "device = \"cuda\" if torch.cuda.is_available() else \"cpu\""
   ]
  },
  {
   "cell_type": "code",
   "execution_count": null,
   "metadata": {},
   "outputs": [],
   "source": [
    "# Load pre-trained model\n",
    "import importlib\n",
    "import model\n",
    "importlib.reload(model)\n",
    "from model import Model\n",
    "model = Model().to(device)\n",
    "print('n parameters: %d' % sum([m.numel() for m in model.parameters()]))"
   ]
  },
  {
   "cell_type": "code",
   "execution_count": null,
   "metadata": {},
   "outputs": [],
   "source": [
    "data_loader_val = load_data('/scratch/ehd255/ssl_data_96', 32, split='val')"
   ]
  },
  {
   "cell_type": "code",
   "execution_count": null,
   "metadata": {
    "scrolled": true
   },
   "outputs": [],
   "source": [
    "with torch.no_grad():\n",
    "    t0 = time.time()\n",
    "    print('Start time: {}'.format(time.asctime(time.localtime(t0))))\n",
    "    evaluate(model, data_loader_val, device, 'Validation')\n",
    "    t1 = time.time()\n",
    "    print('Validation time: {:.3f} s finished {}'.format(t1 - t0, time.asctime(time.localtime(t1))))"
   ]
  },
  {
   "cell_type": "code",
   "execution_count": null,
   "metadata": {},
   "outputs": [],
   "source": [
    "import matplotlib.pyplot as plt\n",
    "\n",
    "top_1 = [0.09, 19.7, 27.9, 31.2, 32.7, 33.6, 33.7, 33.6, 33.9]\n",
    "top_5 = [0.5, 40.9, 51.7, 55.8, 57.3, 58.1, 58.1, 57.7, 57.9]\n",
    "ckpts = [0, 15, 30, 45, 60, 75, 90, 105, 120]\n",
    "\n",
    "plt.plot(ckpts, top_1, label=\"top-1\", color=\"green\")\n",
    "plt.plot(ckpts, top_5, label=\"top-5\", color=\"blue\")\n",
    "plt.xlabel('epochs')\n",
    "plt.ylabel('accuracy (%)')\n",
    "plt.legend()\n",
    "plt.show()"
   ]
  },
  {
   "cell_type": "code",
   "execution_count": null,
   "metadata": {},
   "outputs": [],
   "source": []
  }
 ],
 "metadata": {
  "kernelspec": {
   "display_name": "Python 3",
   "language": "python",
   "name": "python3"
  },
  "language_info": {
   "codemirror_mode": {
    "name": "ipython",
    "version": 3
   },
   "file_extension": ".py",
   "mimetype": "text/x-python",
   "name": "python",
   "nbconvert_exporter": "python",
   "pygments_lexer": "ipython3",
   "version": "3.6.3"
  }
 },
 "nbformat": 4,
 "nbformat_minor": 2
}
